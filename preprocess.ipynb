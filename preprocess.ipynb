{
 "cells": [
  {
   "cell_type": "code",
   "execution_count": 580,
   "metadata": {},
   "outputs": [],
   "source": [
    "import pandas as pd\n",
    "import numpy as np  \n",
    "import matplotlib.pyplot as plt\n",
    "import seaborn as sns"
   ]
  },
  {
   "cell_type": "code",
   "execution_count": 581,
   "metadata": {},
   "outputs": [],
   "source": [
    "df = pd.read_excel('data_professionals_survey.xlsx')"
   ]
  },
  {
   "cell_type": "code",
   "execution_count": 582,
   "metadata": {},
   "outputs": [
    {
     "data": {
      "text/plain": [
       "(630, 28)"
      ]
     },
     "execution_count": 582,
     "metadata": {},
     "output_type": "execute_result"
    }
   ],
   "source": [
    "df.shape"
   ]
  },
  {
   "cell_type": "code",
   "execution_count": 583,
   "metadata": {},
   "outputs": [
    {
     "data": {
      "text/plain": [
       "Index(['Unique ID', 'Email', 'Date Taken (America/New_York)',\n",
       "       'Time Taken (America/New_York)', 'Browser', 'OS', 'City', 'Country',\n",
       "       'Referrer', 'Time Spent',\n",
       "       'Q1 - Which Title Best Fits your Current Role?',\n",
       "       'Q2 - Did you switch careers into Data?',\n",
       "       'Q3 - Current Yearly Salary (in USD)',\n",
       "       'Q4 - What Industry do you work in?',\n",
       "       'Q5 - Favorite Programming Language',\n",
       "       'Q6 - How Happy are you in your Current Position with the following? (Salary)',\n",
       "       'Q6 - How Happy are you in your Current Position with the following? (Work/Life Balance)',\n",
       "       'Q6 - How Happy are you in your Current Position with the following? (Coworkers)',\n",
       "       'Q6 - How Happy are you in your Current Position with the following? (Management)',\n",
       "       'Q6 - How Happy are you in your Current Position with the following? (Upward Mobility)',\n",
       "       'Q6 - How Happy are you in your Current Position with the following? (Learning New Things)',\n",
       "       'Q7 - How difficult was it for you to break into Data?',\n",
       "       'Q8 - If you were to look for a new job today, what would be the most important thing to you?',\n",
       "       'Q9 - Male/Female?', 'Q10 - Current Age',\n",
       "       'Q11 - Which Country do you live in?',\n",
       "       'Q12 - Highest Level of Education', 'Q13 - Ethnicity'],\n",
       "      dtype='object')"
      ]
     },
     "execution_count": 583,
     "metadata": {},
     "output_type": "execute_result"
    }
   ],
   "source": [
    "df.columns"
   ]
  },
  {
   "cell_type": "code",
   "execution_count": 584,
   "metadata": {},
   "outputs": [],
   "source": [
    "df.drop(['Email','Browser','OS','City','Country','Referrer'], axis=1, inplace=True)"
   ]
  },
  {
   "cell_type": "code",
   "execution_count": 585,
   "metadata": {},
   "outputs": [
    {
     "data": {
      "text/plain": [
       "Index(['Unique ID', 'Date Taken (America/New_York)',\n",
       "       'Time Taken (America/New_York)', 'Time Spent',\n",
       "       'Q1 - Which Title Best Fits your Current Role?',\n",
       "       'Q2 - Did you switch careers into Data?',\n",
       "       'Q3 - Current Yearly Salary (in USD)',\n",
       "       'Q4 - What Industry do you work in?',\n",
       "       'Q5 - Favorite Programming Language',\n",
       "       'Q6 - How Happy are you in your Current Position with the following? (Salary)',\n",
       "       'Q6 - How Happy are you in your Current Position with the following? (Work/Life Balance)',\n",
       "       'Q6 - How Happy are you in your Current Position with the following? (Coworkers)',\n",
       "       'Q6 - How Happy are you in your Current Position with the following? (Management)',\n",
       "       'Q6 - How Happy are you in your Current Position with the following? (Upward Mobility)',\n",
       "       'Q6 - How Happy are you in your Current Position with the following? (Learning New Things)',\n",
       "       'Q7 - How difficult was it for you to break into Data?',\n",
       "       'Q8 - If you were to look for a new job today, what would be the most important thing to you?',\n",
       "       'Q9 - Male/Female?', 'Q10 - Current Age',\n",
       "       'Q11 - Which Country do you live in?',\n",
       "       'Q12 - Highest Level of Education', 'Q13 - Ethnicity'],\n",
       "      dtype='object')"
      ]
     },
     "execution_count": 585,
     "metadata": {},
     "output_type": "execute_result"
    }
   ],
   "source": [
    "df.columns"
   ]
  },
  {
   "cell_type": "code",
   "execution_count": 586,
   "metadata": {},
   "outputs": [
    {
     "data": {
      "text/html": [
       "<div>\n",
       "<style scoped>\n",
       "    .dataframe tbody tr th:only-of-type {\n",
       "        vertical-align: middle;\n",
       "    }\n",
       "\n",
       "    .dataframe tbody tr th {\n",
       "        vertical-align: top;\n",
       "    }\n",
       "\n",
       "    .dataframe thead th {\n",
       "        text-align: right;\n",
       "    }\n",
       "</style>\n",
       "<table border=\"1\" class=\"dataframe\">\n",
       "  <thead>\n",
       "    <tr style=\"text-align: right;\">\n",
       "      <th></th>\n",
       "      <th>Date Taken (America/New_York)</th>\n",
       "      <th>Time Taken (America/New_York)</th>\n",
       "    </tr>\n",
       "  </thead>\n",
       "  <tbody>\n",
       "    <tr>\n",
       "      <th>0</th>\n",
       "      <td>6/10/2022</td>\n",
       "      <td>8:38</td>\n",
       "    </tr>\n",
       "    <tr>\n",
       "      <th>1</th>\n",
       "      <td>6/10/2022</td>\n",
       "      <td>8:40</td>\n",
       "    </tr>\n",
       "    <tr>\n",
       "      <th>2</th>\n",
       "      <td>6/10/2022</td>\n",
       "      <td>8:42</td>\n",
       "    </tr>\n",
       "    <tr>\n",
       "      <th>3</th>\n",
       "      <td>6/10/2022</td>\n",
       "      <td>8:43</td>\n",
       "    </tr>\n",
       "    <tr>\n",
       "      <th>4</th>\n",
       "      <td>6/10/2022</td>\n",
       "      <td>8:44</td>\n",
       "    </tr>\n",
       "  </tbody>\n",
       "</table>\n",
       "</div>"
      ],
      "text/plain": [
       "  Date Taken (America/New_York) Time Taken (America/New_York)\n",
       "0                     6/10/2022                          8:38\n",
       "1                     6/10/2022                          8:40\n",
       "2                     6/10/2022                          8:42\n",
       "3                     6/10/2022                          8:43\n",
       "4                     6/10/2022                          8:44"
      ]
     },
     "execution_count": 586,
     "metadata": {},
     "output_type": "execute_result"
    }
   ],
   "source": [
    "df[['Date Taken (America/New_York)','Time Taken (America/New_York)']].head()"
   ]
  },
  {
   "cell_type": "code",
   "execution_count": 587,
   "metadata": {},
   "outputs": [
    {
     "data": {
      "text/plain": [
       "Date Taken (America/New_York)    object\n",
       "Time Taken (America/New_York)    object\n",
       "dtype: object"
      ]
     },
     "execution_count": 587,
     "metadata": {},
     "output_type": "execute_result"
    }
   ],
   "source": [
    "df[['Date Taken (America/New_York)','Time Taken (America/New_York)']].dtypes"
   ]
  },
  {
   "cell_type": "code",
   "execution_count": 588,
   "metadata": {},
   "outputs": [],
   "source": [
    "df['Time Taken (America/New_York)'] = pd.to_datetime(df['Time Taken (America/New_York)'], format='%H:%M').dt.time"
   ]
  },
  {
   "cell_type": "code",
   "execution_count": 589,
   "metadata": {},
   "outputs": [],
   "source": [
    "df['Date Taken (America/New_York)'] = pd.to_datetime(df['Date Taken (America/New_York)'])"
   ]
  },
  {
   "cell_type": "code",
   "execution_count": 590,
   "metadata": {},
   "outputs": [],
   "source": [
    "df['Response Time'] = df['Date Taken (America/New_York)'] + pd.to_timedelta(df['Time Taken (America/New_York)'].astype(str))"
   ]
  },
  {
   "cell_type": "code",
   "execution_count": 591,
   "metadata": {},
   "outputs": [
    {
     "data": {
      "text/plain": [
       "0   2022-06-10 08:38:00\n",
       "1   2022-06-10 08:40:00\n",
       "2   2022-06-10 08:42:00\n",
       "3   2022-06-10 08:43:00\n",
       "4   2022-06-10 08:44:00\n",
       "Name: Response Time, dtype: datetime64[ns]"
      ]
     },
     "execution_count": 591,
     "metadata": {},
     "output_type": "execute_result"
    }
   ],
   "source": [
    "df['Response Time'].head()"
   ]
  },
  {
   "cell_type": "code",
   "execution_count": 592,
   "metadata": {},
   "outputs": [
    {
     "name": "stdout",
     "output_type": "stream",
     "text": [
      "630\n",
      "Unique ID: 630\n"
     ]
    }
   ],
   "source": [
    "print(df['Unique ID'].count())\n",
    "print('Unique ID:', df['Unique ID'].nunique())"
   ]
  },
  {
   "cell_type": "code",
   "execution_count": 593,
   "metadata": {},
   "outputs": [],
   "source": [
    "df.drop(columns=['Date Taken (America/New_York)', 'Time Taken (America/New_York)','Unique ID','Q13 - Ethnicity'], inplace=True)"
   ]
  },
  {
   "cell_type": "code",
   "execution_count": 594,
   "metadata": {},
   "outputs": [],
   "source": [
    "df.rename(columns={'Time Spent':'Elapsed Time'}, inplace=True)"
   ]
  },
  {
   "cell_type": "code",
   "execution_count": 595,
   "metadata": {},
   "outputs": [
    {
     "data": {
      "text/plain": [
       "Index(['Elapsed Time', 'Q1 - Which Title Best Fits your Current Role?',\n",
       "       'Q2 - Did you switch careers into Data?',\n",
       "       'Q3 - Current Yearly Salary (in USD)',\n",
       "       'Q4 - What Industry do you work in?',\n",
       "       'Q5 - Favorite Programming Language',\n",
       "       'Q6 - How Happy are you in your Current Position with the following? (Salary)',\n",
       "       'Q6 - How Happy are you in your Current Position with the following? (Work/Life Balance)',\n",
       "       'Q6 - How Happy are you in your Current Position with the following? (Coworkers)',\n",
       "       'Q6 - How Happy are you in your Current Position with the following? (Management)',\n",
       "       'Q6 - How Happy are you in your Current Position with the following? (Upward Mobility)',\n",
       "       'Q6 - How Happy are you in your Current Position with the following? (Learning New Things)',\n",
       "       'Q7 - How difficult was it for you to break into Data?',\n",
       "       'Q8 - If you were to look for a new job today, what would be the most important thing to you?',\n",
       "       'Q9 - Male/Female?', 'Q10 - Current Age',\n",
       "       'Q11 - Which Country do you live in?',\n",
       "       'Q12 - Highest Level of Education', 'Response Time'],\n",
       "      dtype='object')"
      ]
     },
     "execution_count": 595,
     "metadata": {},
     "output_type": "execute_result"
    }
   ],
   "source": [
    "df.columns"
   ]
  },
  {
   "cell_type": "code",
   "execution_count": 596,
   "metadata": {},
   "outputs": [],
   "source": [
    "df.rename(columns= {\n",
    "    'Q9 - Male/Female?': 'Gender',\n",
    "    'Q10 - Current Age': 'Age',\n",
    "    'Q11 - Which Country do you live in?': 'Country',\n",
    "    'Q12 - Highest Level of Education': 'Education Level'}, inplace=True)\n"
   ]
  },
  {
   "cell_type": "code",
   "execution_count": 597,
   "metadata": {},
   "outputs": [],
   "source": [
    "df.rename(columns= {\n",
    "    'Q6 - How Happy are you in your Current Position with the following? (Salary)':  'Happiness (Salary)',\n",
    "    'Q6 - How Happy are you in your Current Position with the following? (Work/Life Balance)': 'Happiness (Work/Life Balance)',\n",
    "    'Q6 - How Happy are you in your Current Position with the following? (Coworkers)': 'Happiness (Coworkers)',\n",
    "    'Q6 - How Happy are you in your Current Position with the following? (Management)': 'Happiness (Management)',\n",
    "    'Q6 - How Happy are you in your Current Position with the following? (Upward Mobility)': 'Happiness (Upward Mobility)',\n",
    "    'Q6 - How Happy are you in your Current Position with the following? (Learning New Things)': 'Happiness (Learning)',\n",
    "    'Q7 - How difficult was it for you to break into Data?': 'Difficulty Breaking into Data',\n",
    "    'Q8 - If you were to look for a new job today, what would be the most important thing to you?': 'Important Job Factors',\n",
    "    'Q4 - What Industry do you work in?': 'Industry','Q2 - Did you switch careers into Data?': 'Did you switch careers into Data?',\n",
    "    'Q3 - Current Yearly Salary (in USD)': 'Current Yearly Salary (in USD)',\n",
    "    'Q5 - Favorite Programming Language': 'Favorite Programming Language',\n",
    "    'Q1 - Which Title Best Fits your Current Role?': 'Title',\n",
    "}, inplace=True)"
   ]
  },
  {
   "cell_type": "code",
   "execution_count": 598,
   "metadata": {},
   "outputs": [
    {
     "data": {
      "text/plain": [
       "Index(['Elapsed Time', 'Title', 'Did you switch careers into Data?',\n",
       "       'Current Yearly Salary (in USD)', 'Industry',\n",
       "       'Favorite Programming Language', 'Happiness (Salary)',\n",
       "       'Happiness (Work/Life Balance)', 'Happiness (Coworkers)',\n",
       "       'Happiness (Management)', 'Happiness (Upward Mobility)',\n",
       "       'Happiness (Learning)', 'Difficulty Breaking into Data',\n",
       "       'Important Job Factors', 'Gender', 'Age', 'Country', 'Education Level',\n",
       "       'Response Time'],\n",
       "      dtype='object')"
      ]
     },
     "execution_count": 598,
     "metadata": {},
     "output_type": "execute_result"
    }
   ],
   "source": [
    "df.columns"
   ]
  },
  {
   "cell_type": "code",
   "execution_count": 599,
   "metadata": {},
   "outputs": [],
   "source": [
    "df = df[['Response Time',\n",
    "       'Gender',\n",
    "       'Age',\n",
    "       'Country',\n",
    "       'Education Level', \n",
    "       'Industry',\n",
    "       'Title',\n",
    "       'Did you switch careers into Data?',\n",
    "       'Favorite Programming Language',\n",
    "       'Current Yearly Salary (in USD)',\n",
    "       'Happiness (Salary)',\n",
    "       'Happiness (Work/Life Balance)',\n",
    "       'Happiness (Coworkers)',\n",
    "       'Happiness (Management)',\n",
    "       'Happiness (Upward Mobility)',\n",
    "       'Happiness (Learning)',\n",
    "       'Difficulty Breaking into Data',\n",
    "       'Important Job Factors',\n",
    "       'Elapsed Time']]"
   ]
  },
  {
   "cell_type": "code",
   "execution_count": 600,
   "metadata": {},
   "outputs": [
    {
     "data": {
      "text/html": [
       "<div>\n",
       "<style scoped>\n",
       "    .dataframe tbody tr th:only-of-type {\n",
       "        vertical-align: middle;\n",
       "    }\n",
       "\n",
       "    .dataframe tbody tr th {\n",
       "        vertical-align: top;\n",
       "    }\n",
       "\n",
       "    .dataframe thead th {\n",
       "        text-align: right;\n",
       "    }\n",
       "</style>\n",
       "<table border=\"1\" class=\"dataframe\">\n",
       "  <thead>\n",
       "    <tr style=\"text-align: right;\">\n",
       "      <th></th>\n",
       "      <th>Response Time</th>\n",
       "      <th>Gender</th>\n",
       "      <th>Age</th>\n",
       "      <th>Country</th>\n",
       "      <th>Education Level</th>\n",
       "      <th>Industry</th>\n",
       "      <th>Title</th>\n",
       "      <th>Did you switch careers into Data?</th>\n",
       "      <th>Favorite Programming Language</th>\n",
       "      <th>Current Yearly Salary (in USD)</th>\n",
       "      <th>Happiness (Salary)</th>\n",
       "      <th>Happiness (Work/Life Balance)</th>\n",
       "      <th>Happiness (Coworkers)</th>\n",
       "      <th>Happiness (Management)</th>\n",
       "      <th>Happiness (Upward Mobility)</th>\n",
       "      <th>Happiness (Learning)</th>\n",
       "      <th>Difficulty Breaking into Data</th>\n",
       "      <th>Important Job Factors</th>\n",
       "      <th>Elapsed Time</th>\n",
       "    </tr>\n",
       "  </thead>\n",
       "  <tbody>\n",
       "    <tr>\n",
       "      <th>0</th>\n",
       "      <td>2022-06-10 08:38:00</td>\n",
       "      <td>Male</td>\n",
       "      <td>26</td>\n",
       "      <td>United States</td>\n",
       "      <td>NaN</td>\n",
       "      <td>Healthcare</td>\n",
       "      <td>Data Analyst</td>\n",
       "      <td>Yes</td>\n",
       "      <td>Python</td>\n",
       "      <td>106k-125k</td>\n",
       "      <td>9.0</td>\n",
       "      <td>9.0</td>\n",
       "      <td>7.0</td>\n",
       "      <td>5.0</td>\n",
       "      <td>5.0</td>\n",
       "      <td>7.0</td>\n",
       "      <td>Very Difficult</td>\n",
       "      <td>Remote Work</td>\n",
       "      <td>0:00:44</td>\n",
       "    </tr>\n",
       "  </tbody>\n",
       "</table>\n",
       "</div>"
      ],
      "text/plain": [
       "        Response Time Gender  Age        Country Education Level    Industry  \\\n",
       "0 2022-06-10 08:38:00   Male   26  United States             NaN  Healthcare   \n",
       "\n",
       "          Title Did you switch careers into Data?  \\\n",
       "0  Data Analyst                               Yes   \n",
       "\n",
       "  Favorite Programming Language Current Yearly Salary (in USD)  \\\n",
       "0                        Python                      106k-125k   \n",
       "\n",
       "   Happiness (Salary)  Happiness (Work/Life Balance)  Happiness (Coworkers)  \\\n",
       "0                 9.0                            9.0                    7.0   \n",
       "\n",
       "   Happiness (Management)  Happiness (Upward Mobility)  Happiness (Learning)  \\\n",
       "0                     5.0                          5.0                   7.0   \n",
       "\n",
       "  Difficulty Breaking into Data Important Job Factors Elapsed Time  \n",
       "0                Very Difficult           Remote Work      0:00:44  "
      ]
     },
     "execution_count": 600,
     "metadata": {},
     "output_type": "execute_result"
    }
   ],
   "source": [
    "df.head(1)"
   ]
  },
  {
   "cell_type": "code",
   "execution_count": 601,
   "metadata": {},
   "outputs": [
    {
     "data": {
      "text/plain": [
       "Response Time                        datetime64[ns]\n",
       "Gender                                       object\n",
       "Age                                           int64\n",
       "Country                                      object\n",
       "Education Level                              object\n",
       "Industry                                     object\n",
       "Title                                        object\n",
       "Did you switch careers into Data?            object\n",
       "Favorite Programming Language                object\n",
       "Current Yearly Salary (in USD)               object\n",
       "Happiness (Salary)                          float64\n",
       "Happiness (Work/Life Balance)               float64\n",
       "Happiness (Coworkers)                       float64\n",
       "Happiness (Management)                      float64\n",
       "Happiness (Upward Mobility)                 float64\n",
       "Happiness (Learning)                        float64\n",
       "Difficulty Breaking into Data                object\n",
       "Important Job Factors                        object\n",
       "Elapsed Time                                 object\n",
       "dtype: object"
      ]
     },
     "execution_count": 601,
     "metadata": {},
     "output_type": "execute_result"
    }
   ],
   "source": [
    "df.dtypes"
   ]
  },
  {
   "cell_type": "code",
   "execution_count": 602,
   "metadata": {},
   "outputs": [
    {
     "data": {
      "text/plain": [
       "array(['Male', 'Female'], dtype=object)"
      ]
     },
     "execution_count": 602,
     "metadata": {},
     "output_type": "execute_result"
    }
   ],
   "source": [
    "df['Gender'].unique()"
   ]
  },
  {
   "cell_type": "code",
   "execution_count": 603,
   "metadata": {},
   "outputs": [
    {
     "data": {
      "text/plain": [
       "<IntegerArray>\n",
       "[26, 36, 23, 35, 44, 33, 24, 28, 37, 32, 34, 30, 31, 29, 22, 43, 25, 42, 40,\n",
       " 41, 38, 21, 27, 39, 51, 55, 45, 52, 50, 56, 20, 47, 54, 19, 92, 60, 53, 18,\n",
       " 48, 58, 66]\n",
       "Length: 41, dtype: Int16"
      ]
     },
     "execution_count": 603,
     "metadata": {},
     "output_type": "execute_result"
    }
   ],
   "source": [
    "df.Age = df.Age.astype('Int16')\n",
    "df.Age.unique()"
   ]
  },
  {
   "cell_type": "code",
   "execution_count": 604,
   "metadata": {},
   "outputs": [
    {
     "data": {
      "text/plain": [
       "98"
      ]
     },
     "execution_count": 604,
     "metadata": {},
     "output_type": "execute_result"
    }
   ],
   "source": [
    "df['Country'].nunique()"
   ]
  },
  {
   "cell_type": "code",
   "execution_count": 605,
   "metadata": {},
   "outputs": [
    {
     "data": {
      "text/plain": [
       "array(['Canada', 'India', 'Other (Please Specify)',\n",
       "       'Other (Please Specify): Somalia',\n",
       "       'Other (Please Specify):Africa (Nigeria)',\n",
       "       'Other (Please Specify):Aisa', 'Other (Please Specify):Algeria',\n",
       "       'Other (Please Specify):Angola', 'Other (Please Specify):Antigua ',\n",
       "       'Other (Please Specify):Argentina',\n",
       "       'Other (Please Specify):Argentina ',\n",
       "       'Other (Please Specify):Argentine', 'Other (Please Specify):Austr',\n",
       "       'Other (Please Specify):Australia',\n",
       "       'Other (Please Specify):Azerbaijan',\n",
       "       'Other (Please Specify):Bangladesh ',\n",
       "       'Other (Please Specify):Barbados',\n",
       "       'Other (Please Specify):Belgium', 'Other (Please Specify):Brazik',\n",
       "       'Other (Please Specify):Brazil', 'Other (Please Specify):Bulgaria',\n",
       "       'Other (Please Specify):Chile', 'Other (Please Specify):Colombia',\n",
       "       'Other (Please Specify):Costa Rica',\n",
       "       'Other (Please Specify):Costa Rica ',\n",
       "       'Other (Please Specify):Denmark', 'Other (Please Specify):Egypt',\n",
       "       'Other (Please Specify):Egypt ', 'Other (Please Specify):Fin',\n",
       "       'Other (Please Specify):France', 'Other (Please Specify):Germany',\n",
       "       'Other (Please Specify):Ghana', 'Other (Please Specify):Greece',\n",
       "       'Other (Please Specify):Hong Kong',\n",
       "       'Other (Please Specify):Indonesia', 'Other (Please Specify):Iran',\n",
       "       'Other (Please Specify):Iraq', 'Other (Please Specify):Ire',\n",
       "       'Other (Please Specify):Irel', 'Other (Please Specify):Ireland',\n",
       "       'Other (Please Specify):Ireland ', 'Other (Please Specify):Israel',\n",
       "       'Other (Please Specify):Japan', 'Other (Please Specify):Kenua',\n",
       "       'Other (Please Specify):Kenya', 'Other (Please Specify):Kenya ',\n",
       "       'Other (Please Specify):Kosovo', 'Other (Please Specify):Leba',\n",
       "       'Other (Please Specify):Liberia',\n",
       "       'Other (Please Specify):Macedonia',\n",
       "       'Other (Please Specify):Malaysia', 'Other (Please Specify):Mexico',\n",
       "       'Other (Please Specify):Morocco',\n",
       "       'Other (Please Specify):Morocco ',\n",
       "       'Other (Please Specify):Mozambique',\n",
       "       'Other (Please Specify):Netherlands',\n",
       "       'Other (Please Specify):Niger', 'Other (Please Specify):Nigeria',\n",
       "       'Other (Please Specify):Nigeria ', 'Other (Please Specify):Oman',\n",
       "       'Other (Please Specify):Pakistan', 'Other (Please Specify):Panama',\n",
       "       'Other (Please Specify):Peru', 'Other (Please Specify):Perú ',\n",
       "       'Other (Please Specify):Philippines',\n",
       "       'Other (Please Specify):Poland', 'Other (Please Specify):Portugal',\n",
       "       'Other (Please Specify):Portugsl',\n",
       "       'Other (Please Specify):Republic democratic of Congo ',\n",
       "       'Other (Please Specify):Romania', 'Other (Please Specify):SG',\n",
       "       'Other (Please Specify):Saudi Arabia',\n",
       "       'Other (Please Specify):Saudi Arabia ',\n",
       "       'Other (Please Specify):Serbia',\n",
       "       'Other (Please Specify):Singapore',\n",
       "       'Other (Please Specify):South Africa',\n",
       "       'Other (Please Specify):South Africa ',\n",
       "       'Other (Please Specify):South Korea',\n",
       "       'Other (Please Specify):Spain', 'Other (Please Specify):Sri lanka',\n",
       "       'Other (Please Specify):Sudan', 'Other (Please Specify):Sweden',\n",
       "       'Other (Please Specify):TUNISIA',\n",
       "       'Other (Please Specify):Thailand', 'Other (Please Specify):Turkey',\n",
       "       'Other (Please Specify):UAE',\n",
       "       'Other (Please Specify):United Arab Emirates ',\n",
       "       'Other (Please Specify):Uruguay',\n",
       "       'Other (Please Specify):Venezuela',\n",
       "       'Other (Please Specify):Vietnam', 'Other (Please Specify):Zambia',\n",
       "       'Other (Please Specify):ghana', 'Other (Please Specify):indonesia',\n",
       "       'Other (Please Specify):nigeria', 'Other (Please Specify):turkey',\n",
       "       'Other (Please Specify):uzb', 'United Kingdom', 'United States'],\n",
       "      dtype=object)"
      ]
     },
     "execution_count": 605,
     "metadata": {},
     "output_type": "execute_result"
    }
   ],
   "source": [
    "df['Country'].sort_values().unique()"
   ]
  },
  {
   "cell_type": "code",
   "execution_count": 606,
   "metadata": {},
   "outputs": [],
   "source": [
    "df['Country'] = df['Country'].str.lower()\n",
    "df['Country'] = df['Country'].str.strip()"
   ]
  },
  {
   "cell_type": "code",
   "execution_count": 607,
   "metadata": {},
   "outputs": [],
   "source": [
    "df['Country'] = df['Country'].astype(str).apply(lambda x: x.replace('other (please specify):','').strip().capitalize())"
   ]
  },
  {
   "cell_type": "code",
   "execution_count": 608,
   "metadata": {},
   "outputs": [
    {
     "data": {
      "text/plain": [
       "array(['Africa (nigeria)', 'Aisa', 'Algeria', 'Angola', 'Antigua',\n",
       "       'Argentina', 'Argentine', 'Austr', 'Australia', 'Azerbaijan',\n",
       "       'Bangladesh', 'Barbados', 'Belgium', 'Brazik', 'Brazil',\n",
       "       'Bulgaria', 'Canada', 'Chile', 'Colombia', 'Costa rica', 'Denmark',\n",
       "       'Egypt', 'Fin', 'France', 'Germany', 'Ghana', 'Greece',\n",
       "       'Hong kong', 'India', 'Indonesia', 'Iran', 'Iraq', 'Ire', 'Irel',\n",
       "       'Ireland', 'Israel', 'Japan', 'Kenua', 'Kenya', 'Kosovo', 'Leba',\n",
       "       'Liberia', 'Macedonia', 'Malaysia', 'Mexico', 'Morocco',\n",
       "       'Mozambique', 'Netherlands', 'Niger', 'Nigeria', 'Oman',\n",
       "       'Other (please specify)', 'Pakistan', 'Panama', 'Peru', 'Perú',\n",
       "       'Philippines', 'Poland', 'Portugal', 'Portugsl',\n",
       "       'Republic democratic of congo', 'Romania', 'Saudi arabia',\n",
       "       'Serbia', 'Sg', 'Singapore', 'Somalia', 'South africa',\n",
       "       'South korea', 'Spain', 'Sri lanka', 'Sudan', 'Sweden', 'Thailand',\n",
       "       'Tunisia', 'Turkey', 'Uae', 'United arab emirates',\n",
       "       'United kingdom', 'United states', 'Uruguay', 'Uzb', 'Venezuela',\n",
       "       'Vietnam', 'Zambia'], dtype=object)"
      ]
     },
     "execution_count": 608,
     "metadata": {},
     "output_type": "execute_result"
    }
   ],
   "source": [
    "df['Country'].sort_values().unique()"
   ]
  },
  {
   "cell_type": "code",
   "execution_count": 609,
   "metadata": {},
   "outputs": [],
   "source": [
    "country_corrections = {\n",
    "    'Aisa': 'Asia',\n",
    "    'Africa (nigeria)': 'Nigeria',\n",
    "    'Brazik': 'Brazil',\n",
    "    'Austr': 'Austria',\n",
    "    'Kenua': 'kenya',\n",
    "    'Ire': 'Ireland',\n",
    "    'Irel': 'Ireland',\n",
    "    'Portugsl': 'Portugal',\n",
    "    'Sg': 'Singapore',\n",
    "    'Perú': 'Peru',\n",
    "    'Argentine': 'Argentina',\n",
    "    'Fin': 'Finland',\n",
    "    'Uzb':'Uzbekistan',\n",
    "    'Republic democratic of congo': 'Democratic republic of the congo',\n",
    "    'Uae': 'United arab emirates',\n",
    "    'Other (please specify)': 'Other' # Remove if needed\n",
    "}\n"
   ]
  },
  {
   "cell_type": "code",
   "execution_count": 610,
   "metadata": {},
   "outputs": [],
   "source": [
    "df['Country'] = df['Country'].replace(country_corrections)"
   ]
  },
  {
   "cell_type": "code",
   "execution_count": 611,
   "metadata": {},
   "outputs": [
    {
     "data": {
      "text/plain": [
       "array(['Algeria', 'Angola', 'Antigua', 'Argentina', 'Asia', 'Australia',\n",
       "       'Austria', 'Azerbaijan', 'Bangladesh', 'Barbados', 'Belgium',\n",
       "       'Brazil', 'Bulgaria', 'Canada', 'Chile', 'Colombia', 'Costa rica',\n",
       "       'Democratic republic of the congo', 'Denmark', 'Egypt', 'Finland',\n",
       "       'France', 'Germany', 'Ghana', 'Greece', 'Hong kong', 'India',\n",
       "       'Indonesia', 'Iran', 'Iraq', 'Ireland', 'Israel', 'Japan', 'Kenya',\n",
       "       'Kosovo', 'Leba', 'Liberia', 'Macedonia', 'Malaysia', 'Mexico',\n",
       "       'Morocco', 'Mozambique', 'Netherlands', 'Niger', 'Nigeria', 'Oman',\n",
       "       'Other', 'Pakistan', 'Panama', 'Peru', 'Philippines', 'Poland',\n",
       "       'Portugal', 'Romania', 'Saudi arabia', 'Serbia', 'Singapore',\n",
       "       'Somalia', 'South africa', 'South korea', 'Spain', 'Sri lanka',\n",
       "       'Sudan', 'Sweden', 'Thailand', 'Tunisia', 'Turkey',\n",
       "       'United arab emirates', 'United kingdom', 'United states',\n",
       "       'Uruguay', 'Uzbekistan', 'Venezuela', 'Vietnam', 'Zambia', 'kenya'],\n",
       "      dtype=object)"
      ]
     },
     "execution_count": 611,
     "metadata": {},
     "output_type": "execute_result"
    }
   ],
   "source": [
    "df['Country'].sort_values().unique()"
   ]
  },
  {
   "cell_type": "code",
   "execution_count": 612,
   "metadata": {},
   "outputs": [
    {
     "data": {
      "text/plain": [
       "76"
      ]
     },
     "execution_count": 612,
     "metadata": {},
     "output_type": "execute_result"
    }
   ],
   "source": [
    "df['Country'].nunique()"
   ]
  },
  {
   "cell_type": "code",
   "execution_count": 613,
   "metadata": {},
   "outputs": [
    {
     "data": {
      "text/plain": [
       "array([nan, 'High School', 'Bachelors', 'Masters', 'Associates', 'PhD'],\n",
       "      dtype=object)"
      ]
     },
     "execution_count": 613,
     "metadata": {},
     "output_type": "execute_result"
    }
   ],
   "source": [
    "df['Education Level'].unique()"
   ]
  },
  {
   "cell_type": "code",
   "execution_count": 614,
   "metadata": {},
   "outputs": [],
   "source": [
    "df['Education Level'] = df['Education Level'].replace({None:'Unspecified'})"
   ]
  },
  {
   "cell_type": "code",
   "execution_count": 615,
   "metadata": {},
   "outputs": [
    {
     "data": {
      "text/plain": [
       "array(['Unspecified', 'High School', 'Bachelors', 'Masters', 'Associates',\n",
       "       'PhD'], dtype=object)"
      ]
     },
     "execution_count": 615,
     "metadata": {},
     "output_type": "execute_result"
    }
   ],
   "source": [
    "df['Education Level'].unique()"
   ]
  },
  {
   "cell_type": "code",
   "execution_count": 616,
   "metadata": {},
   "outputs": [],
   "source": [
    "df['Industry'] = df['Industry'].astype(str).apply(lambda x: x.replace('Other (Please Specify):','').strip())"
   ]
  },
  {
   "cell_type": "code",
   "execution_count": 617,
   "metadata": {},
   "outputs": [
    {
     "name": "stdout",
     "output_type": "stream",
     "text": [
      "['Healthcare' 'Finance' 'Clean Energy' 'Coworking space' 'Retail'\n",
      " 'Telecommunication' 'Logistics' 'Igaming' 'Tech' 'Education'\n",
      " 'Construction' 'Aviation' 'Insurance' 'Energy' 'Oil and gas'\n",
      " 'Other (Please Specify)' 'Automotive' 'Utili' 'Not working yet' 'Manufa'\n",
      " 'Manufacturing (Chemicals)'\n",
      " 'Currently studying . Previously worked in Power Generation'\n",
      " 'Not working at the moment, but previously I have been into Education industry'\n",
      " 'Third Party Logistics' 'Food & Beverage' 'Marketing' 'Advertising'\n",
      " 'Staffing and Recruting' 'Biotech' 'Consulting' 'Consumer Elec'\n",
      " 'Semiconductor manufacturing'\n",
      " 'Supply Chain - warehousing, transpiration and' 'Distribution'\n",
      " 'Customer Service' 'Ecom' 'Consulti' 'State Government' 'Culture'\n",
      " 'Government' 'Manufacturing' 'Cons' 'Wholesale' 'Government programs'\n",
      " 'Supply Chain' 'Entertainment' 'Aerospace' 'Foodservice Franchising'\n",
      " 'Energy (oil and gas)' 'Market research' 'hospitality' 'Real Estate'\n",
      " 'Chemical Manufacturing' 'Poultry' 'Renewable Resources'\n",
      " 'Customer service' 'Manufacturering' 'sports' 'fashion/online store'\n",
      " 'I am a student' 'Hospitality' 'Agriculture' 'Medical industry'\n",
      " 'Management' 'Warehouse' 'Non profit Animal Welfare' 'none' 'Social work'\n",
      " 'E-commerce' 'IT' 'Legal' 'Media & advertising' 'Utilities' 'Audit Firm'\n",
      " 'Sports' 'Sports/Marketing' 'Nonprofit' 'Law Enforcement'\n",
      " 'last mile delivery logistics' 'Arrosp'\n",
      " 'Demography and Social Statistics' 'i`m currently student' 'None' 'Manuf'\n",
      " 'Student' 'Automobile Industry' 'Fmcg' 'NGO - Legislation' 'Culinary'\n",
      " 'Customer support' 'Cosmetics' 'Digital Mar' 'Home maker' 'I am student.'\n",
      " 'Unemployed, trying to switch career' 'Maritime' 'Ecommerce'\n",
      " 'Electronics' 'Logistics and warehousing' 'Public transport' 'Urbanism'\n",
      " 'Reta' 'Avia' 'State' 'Looking for job' 'Sensors' 'Professional Services'\n",
      " 'Food and bece' 'Research (non-clincial)' 'Gover' 'Defense' 'Foodservice'\n",
      " 'Data insights company' 'Not currently working' 'Food and Beverages'\n",
      " 'Government Administration' 'Outsourcing' 'Cobsukting' 'Workforce'\n",
      " 'General contractor' 'Police / Emergency Services' 'Consumer retail'\n",
      " 'Home and living' 'Non Profit Organization' 'Air transpo' 'None for now'\n",
      " 'Retails' 'Digital Marketing' 'Homelessness' 'Direct Marketing' 'FMCG'\n",
      " 'Taking bootcamp' 'Space & Defense' 'Automobile (cars)'\n",
      " 'Interning in Sciences, Weather and Meteorological data'\n",
      " 'Beverage and foods' 'Transportation']\n"
     ]
    },
    {
     "data": {
      "text/plain": [
       "137"
      ]
     },
     "execution_count": 617,
     "metadata": {},
     "output_type": "execute_result"
    }
   ],
   "source": [
    "print(df['Industry'].unique())\n",
    "df['Industry'].nunique()\n"
   ]
  },
  {
   "cell_type": "code",
   "execution_count": 618,
   "metadata": {},
   "outputs": [],
   "source": [
    "df['Industry'] = df['Industry'].str.lower()"
   ]
  },
  {
   "cell_type": "code",
   "execution_count": 619,
   "metadata": {},
   "outputs": [],
   "source": [
    "industry_mapping = {\n",
    "    'advertising': ['advertising', 'media & advertising', 'digital marketing', 'marketing'],\n",
    "    'aerospace and defense': ['aerospace', 'defense', 'space & defense', 'arrosp', 'aviation', 'avia'],\n",
    "    'agriculture': ['agriculture', 'poultry'],\n",
    "    'audit firm': ['audit firm'],\n",
    "    'automobile': ['automobile', 'automotive'],\n",
    "    'transportation': ['transportation', 'transpo'],\n",
    "    'logistics': ['logistics', 'logistic', 'distribution', 'supply chain', 'chain'],\n",
    "    'power and energy': ['power and energy', 'oil', 'gas', 'energy', 'renewable resources'],\n",
    "    'manufacturing': ['manufacturing', 'manuf', 'manufa', 'construction', 'general contractor'],\n",
    "    'government': ['government', 'gover', 'state', 'ngo - legislation', 'police / emergency services'],\n",
    "    'electronics': ['electronics', 'electronic', 'consumer elec'],\n",
    "    'utilities': ['utilities', 'utili'],\n",
    "    'home and living': ['home and living', 'home', 'living'],\n",
    "    'ecommerce': ['e-commerce', 'ecommerce', 'ecom'],\n",
    "    'retail': ['retail', 'reta', 'fashion/online store', 'wholesale', 'warehouse'],\n",
    "    'law enforcement': ['law enforcement', 'law', 'legal'],\n",
    "    'food and beverage': ['food and beverage', 'food', 'culinary', 'fmcg'],\n",
    "    'consulting': ['consulting', 'cons', 'consulti', 'cobsukting', 'professional services'],\n",
    "    'education': ['education', 'taking bootcamp', 'demography and social statistics'],\n",
    "    'unemployed': ['unemployed', 'unemployed, trying to switch career', 'student', 'looking for job', 'not ', 'none', 'homelessness'],\n",
    "    'healthcare': ['healthcare', 'medical industry', 'biotech'],\n",
    "    'hospitality': ['hospitality', 'coworking space'],\n",
    "    'finance': ['finance', 'insurance'],\n",
    "    'culture and social work': ['culture', 'social work', 'urbanism', 'nonprofit', 'non profit organization', 'non profit animal welfare'],\n",
    "    'media and entertainment': ['entertainment', 'sports', 'media & advertising'],\n",
    "    'data and technology': ['data insights company', 'it', 'tech', 'sensors', 'igaming'],\n",
    "    'real estate': ['real estate'],\n",
    "    'market research': ['market research'],\n",
    "    'customer service': ['customer service', 'customer support'],\n",
    "    'other': ['other (please specify)', 'outsourcing', 'workforce', 'interning in sciences, weather and meteorological data']\n",
    "}\n",
    "\n",
    "\n",
    "def map_industry(value):\n",
    "    value = str(value) \n",
    "    for industry, keywords in industry_mapping.items():\n",
    "        if any(keyword in value for keyword in keywords):\n",
    "            return industry\n",
    "    return value  \n",
    "\n",
    "df['Industry'] = df['Industry'].apply(map_industry).str.capitalize()"
   ]
  },
  {
   "cell_type": "code",
   "execution_count": 620,
   "metadata": {},
   "outputs": [
    {
     "name": "stdout",
     "output_type": "stream",
     "text": [
      "['Advertising' 'Aerospace and defense' 'Agriculture' 'Audit firm'\n",
      " 'Automobile' 'Consulting' 'Cosmetics' 'Culture and social work'\n",
      " 'Currently studying . previously worked in power generation'\n",
      " 'Customer service' 'Data and technology' 'Ecommerce' 'Education'\n",
      " 'Electronics' 'Finance' 'Food and beverage' 'Government' 'Healthcare'\n",
      " 'Home and living' 'Hospitality' 'Law enforcement' 'Logistics'\n",
      " 'Management' 'Manufacturing' 'Market research' 'Media and entertainment'\n",
      " 'Other' 'Power and energy' 'Research (non-clincial)' 'Retail'\n",
      " 'Staffing and recruting' 'Transportation' 'Unemployed' 'Utilities']\n"
     ]
    },
    {
     "data": {
      "text/plain": [
       "34"
      ]
     },
     "execution_count": 620,
     "metadata": {},
     "output_type": "execute_result"
    }
   ],
   "source": [
    "print(df['Industry'].sort_values().unique())\n",
    "df['Industry'].nunique()"
   ]
  },
  {
   "cell_type": "code",
   "execution_count": 621,
   "metadata": {},
   "outputs": [],
   "source": [
    "df['Title'] = df['Title'].astype(str).apply(lambda x: x.replace('Other (Please Specify):','').strip())\n",
    "df['Title'] = df['Title'].str.lower()\n"
   ]
  },
  {
   "cell_type": "code",
   "execution_count": 622,
   "metadata": {},
   "outputs": [
    {
     "name": "stdout",
     "output_type": "stream",
     "text": [
      "['account manager' 'ads operations' 'analyst'\n",
      " 'analyst primary market intelligence' 'analytics consultant'\n",
      " 'analytics engineer' 'analytics manager' 'bi consultant' 'bi developer'\n",
      " 'bi manager' 'billing analyst' 'business analys' 'business analyst'\n",
      " 'business intelligence analyst' 'business intelligence consultant'\n",
      " 'business intelligence developer' 'business intelligence engineer'\n",
      " 'consultant' 'continuous quality improvement specialist' 'data analyst'\n",
      " 'data architect' 'data coordinator' 'data engineer' 'data integrity'\n",
      " 'data manager' 'data scientist' 'data scientist intern' 'data steward'\n",
      " 'database developer' 'database manager' 'dba' 'director'\n",
      " 'director of data analytics' 'does a social media analyst count?'\n",
      " 'driver' 'educator' 'finance analyst' 'financial analyst' 'fp&a analyst'\n",
      " 'gis analyst'\n",
      " 'i work with data tools and can create simple dashboards but i am not a data scientist'\n",
      " 'incident manager' 'informatics specialist' 'insights analyst'\n",
      " 'investigation specialist' 'jr. data scientist'\n",
      " 'junior software engineer' 'learning management specialist' 'manager'\n",
      " 'manager of a team of data analysts'\n",
      " 'manager, business intelligence develop' 'marketing data specialist'\n",
      " 'other (please specify)' 'pmo' 'power bi developer' 'predictive analyst'\n",
      " 'presales engineer' 'product owner' 'reporting adm' 'research analyst'\n",
      " 'research associate' 'researchers' 'rf engineer' 'sales & marketing'\n",
      " 'sap security analyst' 'senior business analyst' 'software developer'\n",
      " 'software engineer' 'software engineer, ai' 'software support'\n",
      " 'sr. supply chain analyst' 'student working as a data analyst intern'\n",
      " 'student/looking/none' 'support engineer' 'system administrator'\n",
      " 'systems configuration' 'tableau admin' 'teacher' 'technical consulta'\n",
      " 'web developer']\n"
     ]
    },
    {
     "data": {
      "text/plain": [
       "80"
      ]
     },
     "execution_count": 622,
     "metadata": {},
     "output_type": "execute_result"
    }
   ],
   "source": [
    "print(df['Title'].sort_values().unique())\n",
    "df['Title'].nunique()"
   ]
  },
  {
   "cell_type": "code",
   "execution_count": 623,
   "metadata": {},
   "outputs": [],
   "source": [
    "job_mapping = {\n",
    " 'account manager': ['account manager', 'client manager', 'customer manager'],\n",
    "    'ads operations': ['ads operations', 'advertising operations', 'ad ops'],\n",
    "    'business analyst': ['business analyst', 'business analys','ba', 'business analytics'],\n",
    "    'business intelligence specialist': ['bi consultant', 'bi developer', 'bi manager', 'business analyst', 'business intelligence'],\n",
    "    'consultant': ['consultant', 'advisor', 'strategist'],\n",
    "    'continuous quality improvement specialist': ['quality improvement', 'quality specialist', 'process improvement'],\n",
    "    'data analyst': ['data analyst', 'analyst', 'analytics'],\n",
    "    'data architect': ['data architect', 'data architecture', 'database architect'],\n",
    "    'data coordinator': ['data coordinator', 'data organizer', 'data administrator'],\n",
    "    'data engineer': ['data engineer', 'data pipeline', 'etl developer'],\n",
    "    'data integrity': ['data integrity', 'data validation', 'data quality'],\n",
    "    'data manager': ['data manager', 'data management', 'information manager'],\n",
    "    'data scientist': ['data scientist', 'machine learning', 'ai researcher'],\n",
    "    'data steward': ['data steward', 'data governance', 'data custodian'],\n",
    "    'database developer': ['database developer', 'db developer', 'sql developer'],\n",
    "    'database manager': ['database manager', 'db manager', 'data administrator'],\n",
    "    'dba': ['dba', 'database administrator', 'database admin'],\n",
    "    'director': ['director', 'senior manager', 'executive'],\n",
    "    'driver': ['driver', 'courier', 'logistics'],\n",
    "    'educator': ['educator', 'teacher', 'trainer'],\n",
    "    'incident manager': ['incident manager', 'problem manager', 'operations manager'],\n",
    "    'informatics specialist': ['informatics specialist', 'health informatics', 'bioinformatics'],\n",
    "    'investigation specialist': ['investigation specialist', 'investigator', 'research investigator'],\n",
    "    'learning management specialist': ['learning management', 'lms specialist', 'training manager'],\n",
    "    'manager': ['manager', 'team leader', 'supervisor'],\n",
    "    'marketing data specialist': ['marketing data specialist', 'marketing analyst', 'campaign analyst'],\n",
    "    'other': ['other', 'miscellaneous', 'please specify'],\n",
    "    'unemployed': ['unemployed', 'student', 'looking for a job'],\n",
    "    'pmo': ['pmo', 'project management office', 'project manager'],\n",
    "    'presales engineer': ['presales engineer', 'solutions consultant', 'technical presales'],\n",
    "    'product owner': ['product owner', 'product manager', 'scrum owner'],\n",
    "    'reporting adm': ['reporting administrator', 'reporting specialist', 'reporting analyst'],\n",
    "    'research associate': ['research associate', 'researcher', 'assistant researcher'],\n",
    "    'rf engineer': ['rf engineer', 'radio frequency engineer', 'rf specialist'],\n",
    "    'sales & marketing': ['sales & marketing', 'sales professional', 'marketing specialist'],\n",
    "    'software engineer': ['software engineer', 'software developer', 'programmer'],\n",
    "    'software support': ['software support', 'technical support', 'application support'],\n",
    "    'student/looking/none': ['student', 'looking for a job', 'unemployed'],\n",
    "    'support engineer': ['support engineer', 'technical support', 'it support'],\n",
    "    'system administrator': ['system administrator', 'sysadmin', 'system admin'],\n",
    "    'systems configuration': ['systems configuration', 'it systems', 'system setup'],\n",
    "    'tableau admin': ['tableau admin', 'tableau specialist', 'tableau expert'],\n",
    "    'technical consultant': ['technical consulta', 'it consultant', 'technical advisor'],  # Corrected typo\n",
    "    'web developer': ['web developer', 'frontend developer', 'web designer']\n",
    "   \n",
    "}\n",
    "\n",
    "\n",
    "def job_correction(value):\n",
    "    value = str(value) \n",
    "    for job, keywords in job_mapping.items():\n",
    "        if any(keyword in value for keyword in keywords):\n",
    "            return job\n",
    "    return value  \n",
    "\n",
    "df['Title'] = df['Title'].apply(job_correction)\n"
   ]
  },
  {
   "cell_type": "code",
   "execution_count": 624,
   "metadata": {},
   "outputs": [
    {
     "name": "stdout",
     "output_type": "stream",
     "text": [
      "['account manager' 'ads operations' 'business analyst'\n",
      " 'business intelligence specialist' 'consultant'\n",
      " 'continuous quality improvement specialist' 'data analyst'\n",
      " 'data architect' 'data coordinator' 'data engineer' 'data integrity'\n",
      " 'data manager' 'data scientist' 'data steward' 'director' 'driver'\n",
      " 'educator' 'incident manager' 'informatics specialist'\n",
      " 'investigation specialist' 'learning management specialist' 'manager'\n",
      " 'marketing data specialist' 'other' 'pmo' 'presales engineer'\n",
      " 'product owner' 'reporting adm' 'research associate' 'rf engineer'\n",
      " 'sales & marketing' 'software engineer' 'software support'\n",
      " 'support engineer' 'system administrator' 'systems configuration'\n",
      " 'tableau admin' 'technical consultant' 'unemployed' 'web developer']\n"
     ]
    },
    {
     "data": {
      "text/plain": [
       "40"
      ]
     },
     "execution_count": 624,
     "metadata": {},
     "output_type": "execute_result"
    }
   ],
   "source": [
    "print(df['Title'].sort_values().unique())\n",
    "df['Title'].nunique()"
   ]
  },
  {
   "cell_type": "code",
   "execution_count": 625,
   "metadata": {},
   "outputs": [
    {
     "name": "stdout",
     "output_type": "stream",
     "text": [
      "['altery' 'c#' 'c/c++' 'dax' 'dont require' 'excel' 'excel/sql'\n",
      " 'i currently do not work with programming languages yet'\n",
      " 'i do analysis and create presentations based on datasets provided by others'\n",
      " \"i don't use programming in my role\" 'i don’t know any'\n",
      " 'i mean, i mostly work in sql and its variants?'\n",
      " \"if sql is categorised as a programming language then i will definitely say sql. since i am still learning, i can't give a definite answer in relation to the abover mentioned but for the sake of choosing i will say r then followed by python\"\n",
      " 'java' 'javascript' 'just started learning'\n",
      " 'knowledge of excel and sql yet' 'mainly use excel' 'matlab'\n",
      " 'mostly use sql but that’s not programming language..' 'na' 'none'\n",
      " 'none at the moment' 'other' 'php' 'power bi' 'python'\n",
      " 'qlik sense script' 'r' 'sas' 'sas sql' 'sql' 'sql &  plsql'\n",
      " 'sql because that is all i know really well so far.' 'sql postgres'\n",
      " 'stata' 'unknown' 'vba']\n"
     ]
    }
   ],
   "source": [
    "df['Favorite Programming Language'] = df['Favorite Programming Language'].astype(str).apply(lambda x: x.replace('Other:','').strip())\n",
    "df['Favorite Programming Language'] = df['Favorite Programming Language'].str.lower()\n",
    "print(df['Favorite Programming Language'].sort_values().unique())"
   ]
  },
  {
   "cell_type": "code",
   "execution_count": 626,
   "metadata": {},
   "outputs": [],
   "source": [
    "languages_categories = {\n",
    "    \"sql & plsql\": [\"sql & plsql\"],\n",
    "    \"altery\": [\"altery\"],\n",
    "    \"sas\": [\"sas\"],\n",
    "    \"c#\": [\"c#\"],\n",
    "    \"c/c++\": [\"c/c++\"],\n",
    "    \"dax\": [\"dax\",\"excel\",\"power bi\"],\n",
    "    \"sql\": [\"sql\"],\n",
    "    \"javascript\": [\"javascript\"],\n",
    "    \"java\": [\"java\"],\n",
    "    \"unspecified\": [\"unknown\",'dont require','other'],\n",
    "    None: [\"none\", \"na\", \"nan\", \"null\", \"nil\", \"n/a\", \"unknown\",\"do not\",'don',\"just started learning\"],\n",
    "}\n",
    "def language_correction(value):\n",
    "    value = str(value) \n",
    "    for lang, keywords in languages_categories.items():\n",
    "        if any(keyword in value for keyword in keywords):\n",
    "            return lang\n",
    "    return value  \n",
    "\n",
    "df['Favorite Programming Language'] = df['Favorite Programming Language'].apply(language_correction)\n",
    "\n"
   ]
  },
  {
   "cell_type": "code",
   "execution_count": 627,
   "metadata": {},
   "outputs": [
    {
     "name": "stdout",
     "output_type": "stream",
     "text": [
      "['altery' 'c#' 'c/c++' 'dax' 'java' 'javascript' 'matlab' 'php' 'python'\n",
      " 'qlik sense script' 'r' 'sas' 'sql' 'stata' 'unspecified' 'vba' None]\n"
     ]
    }
   ],
   "source": [
    "print(df['Favorite Programming Language'].sort_values().unique())"
   ]
  },
  {
   "cell_type": "code",
   "execution_count": 628,
   "metadata": {},
   "outputs": [
    {
     "data": {
      "text/plain": [
       "<Axes: xlabel='Favorite Programming Language', ylabel='count'>"
      ]
     },
     "execution_count": 628,
     "metadata": {},
     "output_type": "execute_result"
    },
    {
     "data": {
      "image/png": "[encoded data removed]",
      "text/plain": [
       "<Figure size 2000x600 with 1 Axes>"
      ]
     },
     "metadata": {},
     "output_type": "display_data"
    }
   ],
   "source": [
    "plt.figure(figsize=(20,6))\n",
    "sns.countplot(data=df, x='Favorite Programming Language', order=df['Favorite Programming Language'].value_counts().index)"
   ]
  },
  {
   "cell_type": "code",
   "execution_count": 629,
   "metadata": {},
   "outputs": [],
   "source": [
    "df['Title'] = df['Title'].str.capitalize()\n",
    "df['Favorite Programming Language'] = df['Favorite Programming Language'].str.capitalize()"
   ]
  },
  {
   "cell_type": "code",
   "execution_count": null,
   "metadata": {},
   "outputs": [],
   "source": []
  }
 ],
 "metadata": {
  "kernelspec": {
   "display_name": "Python 3",
   "language": "python",
   "name": "python3"
  },
  "language_info": {
   "codemirror_mode": {
    "name": "ipython",
    "version": 3
   },
   "file_extension": ".py",
   "mimetype": "text/x-python",
   "name": "python",
   "nbconvert_exporter": "python",
   "pygments_lexer": "ipython3",
   "version": "3.12.6"
  }
 },
 "nbformat": 4,
 "nbformat_minor": 2
}
