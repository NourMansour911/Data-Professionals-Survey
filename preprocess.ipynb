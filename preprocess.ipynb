{
 "cells": [
  {
   "cell_type": "code",
   "execution_count": 196,
   "metadata": {},
   "outputs": [],
   "source": [
    "import pandas as pd\n",
    "import numpy as np  \n",
    "import matplotlib.pyplot as plt\n",
    "import seaborn as sns"
   ]
  },
  {
   "cell_type": "code",
   "execution_count": 197,
   "metadata": {},
   "outputs": [],
   "source": [
    "df = pd.read_excel('data_professionals_survey.xlsx')"
   ]
  },
  {
   "cell_type": "code",
   "execution_count": 198,
   "metadata": {},
   "outputs": [
    {
     "data": {
      "text/plain": [
       "(630, 28)"
      ]
     },
     "execution_count": 198,
     "metadata": {},
     "output_type": "execute_result"
    }
   ],
   "source": [
    "df.shape"
   ]
  },
  {
   "cell_type": "code",
   "execution_count": 199,
   "metadata": {},
   "outputs": [
    {
     "data": {
      "text/plain": [
       "Index(['Unique ID', 'Email', 'Date Taken (America/New_York)',\n",
       "       'Time Taken (America/New_York)', 'Browser', 'OS', 'City', 'Country',\n",
       "       'Referrer', 'Time Spent',\n",
       "       'Q1 - Which Title Best Fits your Current Role?',\n",
       "       'Q2 - Did you switch careers into Data?',\n",
       "       'Q3 - Current Yearly Salary (in USD)',\n",
       "       'Q4 - What Industry do you work in?',\n",
       "       'Q5 - Favorite Programming Language',\n",
       "       'Q6 - How Happy are you in your Current Position with the following? (Salary)',\n",
       "       'Q6 - How Happy are you in your Current Position with the following? (Work/Life Balance)',\n",
       "       'Q6 - How Happy are you in your Current Position with the following? (Coworkers)',\n",
       "       'Q6 - How Happy are you in your Current Position with the following? (Management)',\n",
       "       'Q6 - How Happy are you in your Current Position with the following? (Upward Mobility)',\n",
       "       'Q6 - How Happy are you in your Current Position with the following? (Learning New Things)',\n",
       "       'Q7 - How difficult was it for you to break into Data?',\n",
       "       'Q8 - If you were to look for a new job today, what would be the most important thing to you?',\n",
       "       'Q9 - Male/Female?', 'Q10 - Current Age',\n",
       "       'Q11 - Which Country do you live in?',\n",
       "       'Q12 - Highest Level of Education', 'Q13 - Ethnicity'],\n",
       "      dtype='object')"
      ]
     },
     "execution_count": 199,
     "metadata": {},
     "output_type": "execute_result"
    }
   ],
   "source": [
    "df.columns"
   ]
  },
  {
   "cell_type": "code",
   "execution_count": 200,
   "metadata": {},
   "outputs": [],
   "source": [
    "df.drop(['Email','Browser','OS','City','Country','Referrer'], axis=1, inplace=True)"
   ]
  },
  {
   "cell_type": "code",
   "execution_count": 201,
   "metadata": {},
   "outputs": [
    {
     "data": {
      "text/plain": [
       "Index(['Unique ID', 'Date Taken (America/New_York)',\n",
       "       'Time Taken (America/New_York)', 'Time Spent',\n",
       "       'Q1 - Which Title Best Fits your Current Role?',\n",
       "       'Q2 - Did you switch careers into Data?',\n",
       "       'Q3 - Current Yearly Salary (in USD)',\n",
       "       'Q4 - What Industry do you work in?',\n",
       "       'Q5 - Favorite Programming Language',\n",
       "       'Q6 - How Happy are you in your Current Position with the following? (Salary)',\n",
       "       'Q6 - How Happy are you in your Current Position with the following? (Work/Life Balance)',\n",
       "       'Q6 - How Happy are you in your Current Position with the following? (Coworkers)',\n",
       "       'Q6 - How Happy are you in your Current Position with the following? (Management)',\n",
       "       'Q6 - How Happy are you in your Current Position with the following? (Upward Mobility)',\n",
       "       'Q6 - How Happy are you in your Current Position with the following? (Learning New Things)',\n",
       "       'Q7 - How difficult was it for you to break into Data?',\n",
       "       'Q8 - If you were to look for a new job today, what would be the most important thing to you?',\n",
       "       'Q9 - Male/Female?', 'Q10 - Current Age',\n",
       "       'Q11 - Which Country do you live in?',\n",
       "       'Q12 - Highest Level of Education', 'Q13 - Ethnicity'],\n",
       "      dtype='object')"
      ]
     },
     "execution_count": 201,
     "metadata": {},
     "output_type": "execute_result"
    }
   ],
   "source": [
    "df.columns"
   ]
  },
  {
   "cell_type": "code",
   "execution_count": 202,
   "metadata": {},
   "outputs": [
    {
     "data": {
      "text/html": [
       "<div>\n",
       "<style scoped>\n",
       "    .dataframe tbody tr th:only-of-type {\n",
       "        vertical-align: middle;\n",
       "    }\n",
       "\n",
       "    .dataframe tbody tr th {\n",
       "        vertical-align: top;\n",
       "    }\n",
       "\n",
       "    .dataframe thead th {\n",
       "        text-align: right;\n",
       "    }\n",
       "</style>\n",
       "<table border=\"1\" class=\"dataframe\">\n",
       "  <thead>\n",
       "    <tr style=\"text-align: right;\">\n",
       "      <th></th>\n",
       "      <th>Date Taken (America/New_York)</th>\n",
       "      <th>Time Taken (America/New_York)</th>\n",
       "    </tr>\n",
       "  </thead>\n",
       "  <tbody>\n",
       "    <tr>\n",
       "      <th>0</th>\n",
       "      <td>6/10/2022</td>\n",
       "      <td>8:38</td>\n",
       "    </tr>\n",
       "    <tr>\n",
       "      <th>1</th>\n",
       "      <td>6/10/2022</td>\n",
       "      <td>8:40</td>\n",
       "    </tr>\n",
       "    <tr>\n",
       "      <th>2</th>\n",
       "      <td>6/10/2022</td>\n",
       "      <td>8:42</td>\n",
       "    </tr>\n",
       "    <tr>\n",
       "      <th>3</th>\n",
       "      <td>6/10/2022</td>\n",
       "      <td>8:43</td>\n",
       "    </tr>\n",
       "    <tr>\n",
       "      <th>4</th>\n",
       "      <td>6/10/2022</td>\n",
       "      <td>8:44</td>\n",
       "    </tr>\n",
       "  </tbody>\n",
       "</table>\n",
       "</div>"
      ],
      "text/plain": [
       "  Date Taken (America/New_York) Time Taken (America/New_York)\n",
       "0                     6/10/2022                          8:38\n",
       "1                     6/10/2022                          8:40\n",
       "2                     6/10/2022                          8:42\n",
       "3                     6/10/2022                          8:43\n",
       "4                     6/10/2022                          8:44"
      ]
     },
     "execution_count": 202,
     "metadata": {},
     "output_type": "execute_result"
    }
   ],
   "source": [
    "df[['Date Taken (America/New_York)','Time Taken (America/New_York)']].head()"
   ]
  },
  {
   "cell_type": "code",
   "execution_count": 203,
   "metadata": {},
   "outputs": [
    {
     "data": {
      "text/plain": [
       "Date Taken (America/New_York)    object\n",
       "Time Taken (America/New_York)    object\n",
       "dtype: object"
      ]
     },
     "execution_count": 203,
     "metadata": {},
     "output_type": "execute_result"
    }
   ],
   "source": [
    "df[['Date Taken (America/New_York)','Time Taken (America/New_York)']].dtypes"
   ]
  },
  {
   "cell_type": "code",
   "execution_count": 204,
   "metadata": {},
   "outputs": [],
   "source": [
    "df['Time Taken (America/New_York)'] = pd.to_datetime(df['Time Taken (America/New_York)'], format='%H:%M').dt.time"
   ]
  },
  {
   "cell_type": "code",
   "execution_count": 205,
   "metadata": {},
   "outputs": [],
   "source": [
    "df['Date Taken (America/New_York)'] = pd.to_datetime(df['Date Taken (America/New_York)'])"
   ]
  },
  {
   "cell_type": "code",
   "execution_count": 206,
   "metadata": {},
   "outputs": [],
   "source": [
    "df['Response Time'] = df['Date Taken (America/New_York)'] + pd.to_timedelta(df['Time Taken (America/New_York)'].astype(str))"
   ]
  },
  {
   "cell_type": "code",
   "execution_count": 207,
   "metadata": {},
   "outputs": [
    {
     "data": {
      "text/plain": [
       "0   2022-06-10 08:38:00\n",
       "1   2022-06-10 08:40:00\n",
       "2   2022-06-10 08:42:00\n",
       "3   2022-06-10 08:43:00\n",
       "4   2022-06-10 08:44:00\n",
       "Name: Response Time, dtype: datetime64[ns]"
      ]
     },
     "execution_count": 207,
     "metadata": {},
     "output_type": "execute_result"
    }
   ],
   "source": [
    "df['Response Time'].head()"
   ]
  },
  {
   "cell_type": "code",
   "execution_count": 208,
   "metadata": {},
   "outputs": [
    {
     "name": "stdout",
     "output_type": "stream",
     "text": [
      "630\n",
      "Unique ID: 630\n"
     ]
    }
   ],
   "source": [
    "print(df['Unique ID'].count())\n",
    "print('Unique ID:', df['Unique ID'].nunique())"
   ]
  },
  {
   "cell_type": "code",
   "execution_count": 209,
   "metadata": {},
   "outputs": [],
   "source": [
    "df.drop(columns=['Date Taken (America/New_York)', 'Time Taken (America/New_York)','Unique ID','Q13 - Ethnicity'], inplace=True)"
   ]
  },
  {
   "cell_type": "code",
   "execution_count": 210,
   "metadata": {},
   "outputs": [],
   "source": [
    "df.rename(columns={'Time Spent':'Elapsed Time'}, inplace=True)"
   ]
  },
  {
   "cell_type": "code",
   "execution_count": 211,
   "metadata": {},
   "outputs": [
    {
     "data": {
      "text/plain": [
       "Index(['Elapsed Time', 'Q1 - Which Title Best Fits your Current Role?',\n",
       "       'Q2 - Did you switch careers into Data?',\n",
       "       'Q3 - Current Yearly Salary (in USD)',\n",
       "       'Q4 - What Industry do you work in?',\n",
       "       'Q5 - Favorite Programming Language',\n",
       "       'Q6 - How Happy are you in your Current Position with the following? (Salary)',\n",
       "       'Q6 - How Happy are you in your Current Position with the following? (Work/Life Balance)',\n",
       "       'Q6 - How Happy are you in your Current Position with the following? (Coworkers)',\n",
       "       'Q6 - How Happy are you in your Current Position with the following? (Management)',\n",
       "       'Q6 - How Happy are you in your Current Position with the following? (Upward Mobility)',\n",
       "       'Q6 - How Happy are you in your Current Position with the following? (Learning New Things)',\n",
       "       'Q7 - How difficult was it for you to break into Data?',\n",
       "       'Q8 - If you were to look for a new job today, what would be the most important thing to you?',\n",
       "       'Q9 - Male/Female?', 'Q10 - Current Age',\n",
       "       'Q11 - Which Country do you live in?',\n",
       "       'Q12 - Highest Level of Education', 'Response Time'],\n",
       "      dtype='object')"
      ]
     },
     "execution_count": 211,
     "metadata": {},
     "output_type": "execute_result"
    }
   ],
   "source": [
    "df.columns"
   ]
  },
  {
   "cell_type": "code",
   "execution_count": 212,
   "metadata": {},
   "outputs": [],
   "source": [
    "df.rename(columns= {\n",
    "    'Q9 - Male/Female?': 'Gender',\n",
    "    'Q10 - Current Age': 'Age',\n",
    "    'Q11 - Which Country do you live in?': 'Country',\n",
    "    'Q12 - Highest Level of Education': 'Education Level'}, inplace=True)\n"
   ]
  },
  {
   "cell_type": "code",
   "execution_count": 213,
   "metadata": {},
   "outputs": [],
   "source": [
    "df.rename(columns= {\n",
    "    'Q6 - How Happy are you in your Current Position with the following? (Salary)':  'Happiness (Salary)',\n",
    "    'Q6 - How Happy are you in your Current Position with the following? (Work/Life Balance)': 'Happiness (Work/Life Balance)',\n",
    "    'Q6 - How Happy are you in your Current Position with the following? (Coworkers)': 'Happiness (Coworkers)',\n",
    "    'Q6 - How Happy are you in your Current Position with the following? (Management)': 'Happiness (Management)',\n",
    "    'Q6 - How Happy are you in your Current Position with the following? (Upward Mobility)': 'Happiness (Upward Mobility)',\n",
    "    'Q6 - How Happy are you in your Current Position with the following? (Learning New Things)': 'Happiness (Learning)',\n",
    "    'Q7 - How difficult was it for you to break into Data?': 'Difficulty Breaking into Data',\n",
    "    'Q8 - If you were to look for a new job today, what would be the most important thing to you?': 'Important Job Factors',\n",
    "    'Q4 - What Industry do you work in?': 'Industry','Q2 - Did you switch careers into Data?': 'Did you switch careers into Data?',\n",
    "    'Q3 - Current Yearly Salary (in USD)': 'Current Yearly Salary (in USD)',\n",
    "    'Q5 - Favorite Programming Language': 'Favorite Programming Language',\n",
    "    'Q1 - Which Title Best Fits your Current Role?': 'Title',\n",
    "}, inplace=True)"
   ]
  },
  {
   "cell_type": "code",
   "execution_count": 214,
   "metadata": {},
   "outputs": [
    {
     "data": {
      "text/plain": [
       "Index(['Elapsed Time', 'Title', 'Did you switch careers into Data?',\n",
       "       'Current Yearly Salary (in USD)', 'Industry',\n",
       "       'Favorite Programming Language', 'Happiness (Salary)',\n",
       "       'Happiness (Work/Life Balance)', 'Happiness (Coworkers)',\n",
       "       'Happiness (Management)', 'Happiness (Upward Mobility)',\n",
       "       'Happiness (Learning)', 'Difficulty Breaking into Data',\n",
       "       'Important Job Factors', 'Gender', 'Age', 'Country', 'Education Level',\n",
       "       'Response Time'],\n",
       "      dtype='object')"
      ]
     },
     "execution_count": 214,
     "metadata": {},
     "output_type": "execute_result"
    }
   ],
   "source": [
    "df.columns"
   ]
  },
  {
   "cell_type": "code",
   "execution_count": 215,
   "metadata": {},
   "outputs": [],
   "source": [
    "df = df[['Response Time',\n",
    "       'Gender',\n",
    "       'Age',\n",
    "       'Country',\n",
    "       'Education Level', \n",
    "       'Industry',\n",
    "       'Title',\n",
    "       'Did you switch careers into Data?',\n",
    "       'Favorite Programming Language',\n",
    "       'Current Yearly Salary (in USD)',\n",
    "       'Happiness (Salary)',\n",
    "       'Happiness (Work/Life Balance)',\n",
    "       'Happiness (Coworkers)',\n",
    "       'Happiness (Management)',\n",
    "       'Happiness (Upward Mobility)',\n",
    "       'Happiness (Learning)',\n",
    "       'Difficulty Breaking into Data',\n",
    "       'Important Job Factors',\n",
    "       'Elapsed Time']]"
   ]
  },
  {
   "cell_type": "code",
   "execution_count": 216,
   "metadata": {},
   "outputs": [
    {
     "data": {
      "text/html": [
       "<div>\n",
       "<style scoped>\n",
       "    .dataframe tbody tr th:only-of-type {\n",
       "        vertical-align: middle;\n",
       "    }\n",
       "\n",
       "    .dataframe tbody tr th {\n",
       "        vertical-align: top;\n",
       "    }\n",
       "\n",
       "    .dataframe thead th {\n",
       "        text-align: right;\n",
       "    }\n",
       "</style>\n",
       "<table border=\"1\" class=\"dataframe\">\n",
       "  <thead>\n",
       "    <tr style=\"text-align: right;\">\n",
       "      <th></th>\n",
       "      <th>Response Time</th>\n",
       "      <th>Gender</th>\n",
       "      <th>Age</th>\n",
       "      <th>Country</th>\n",
       "      <th>Education Level</th>\n",
       "      <th>Industry</th>\n",
       "      <th>Title</th>\n",
       "      <th>Did you switch careers into Data?</th>\n",
       "      <th>Favorite Programming Language</th>\n",
       "      <th>Current Yearly Salary (in USD)</th>\n",
       "      <th>Happiness (Salary)</th>\n",
       "      <th>Happiness (Work/Life Balance)</th>\n",
       "      <th>Happiness (Coworkers)</th>\n",
       "      <th>Happiness (Management)</th>\n",
       "      <th>Happiness (Upward Mobility)</th>\n",
       "      <th>Happiness (Learning)</th>\n",
       "      <th>Difficulty Breaking into Data</th>\n",
       "      <th>Important Job Factors</th>\n",
       "      <th>Elapsed Time</th>\n",
       "    </tr>\n",
       "  </thead>\n",
       "  <tbody>\n",
       "    <tr>\n",
       "      <th>0</th>\n",
       "      <td>2022-06-10 08:38:00</td>\n",
       "      <td>Male</td>\n",
       "      <td>26</td>\n",
       "      <td>United States</td>\n",
       "      <td>NaN</td>\n",
       "      <td>Healthcare</td>\n",
       "      <td>Data Analyst</td>\n",
       "      <td>Yes</td>\n",
       "      <td>Python</td>\n",
       "      <td>106k-125k</td>\n",
       "      <td>9.0</td>\n",
       "      <td>9.0</td>\n",
       "      <td>7.0</td>\n",
       "      <td>5.0</td>\n",
       "      <td>5.0</td>\n",
       "      <td>7.0</td>\n",
       "      <td>Very Difficult</td>\n",
       "      <td>Remote Work</td>\n",
       "      <td>0:00:44</td>\n",
       "    </tr>\n",
       "  </tbody>\n",
       "</table>\n",
       "</div>"
      ],
      "text/plain": [
       "        Response Time Gender  Age        Country Education Level    Industry  \\\n",
       "0 2022-06-10 08:38:00   Male   26  United States             NaN  Healthcare   \n",
       "\n",
       "          Title Did you switch careers into Data?  \\\n",
       "0  Data Analyst                               Yes   \n",
       "\n",
       "  Favorite Programming Language Current Yearly Salary (in USD)  \\\n",
       "0                        Python                      106k-125k   \n",
       "\n",
       "   Happiness (Salary)  Happiness (Work/Life Balance)  Happiness (Coworkers)  \\\n",
       "0                 9.0                            9.0                    7.0   \n",
       "\n",
       "   Happiness (Management)  Happiness (Upward Mobility)  Happiness (Learning)  \\\n",
       "0                     5.0                          5.0                   7.0   \n",
       "\n",
       "  Difficulty Breaking into Data Important Job Factors Elapsed Time  \n",
       "0                Very Difficult           Remote Work      0:00:44  "
      ]
     },
     "execution_count": 216,
     "metadata": {},
     "output_type": "execute_result"
    }
   ],
   "source": [
    "df.head(1)"
   ]
  },
  {
   "cell_type": "code",
   "execution_count": 217,
   "metadata": {},
   "outputs": [
    {
     "data": {
      "text/plain": [
       "Response Time                        datetime64[ns]\n",
       "Gender                                       object\n",
       "Age                                           int64\n",
       "Country                                      object\n",
       "Education Level                              object\n",
       "Industry                                     object\n",
       "Title                                        object\n",
       "Did you switch careers into Data?            object\n",
       "Favorite Programming Language                object\n",
       "Current Yearly Salary (in USD)               object\n",
       "Happiness (Salary)                          float64\n",
       "Happiness (Work/Life Balance)               float64\n",
       "Happiness (Coworkers)                       float64\n",
       "Happiness (Management)                      float64\n",
       "Happiness (Upward Mobility)                 float64\n",
       "Happiness (Learning)                        float64\n",
       "Difficulty Breaking into Data                object\n",
       "Important Job Factors                        object\n",
       "Elapsed Time                                 object\n",
       "dtype: object"
      ]
     },
     "execution_count": 217,
     "metadata": {},
     "output_type": "execute_result"
    }
   ],
   "source": [
    "df.dtypes"
   ]
  },
  {
   "cell_type": "code",
   "execution_count": 218,
   "metadata": {},
   "outputs": [
    {
     "data": {
      "text/plain": [
       "array(['Male', 'Female'], dtype=object)"
      ]
     },
     "execution_count": 218,
     "metadata": {},
     "output_type": "execute_result"
    }
   ],
   "source": [
    "df['Gender'].unique()"
   ]
  },
  {
   "cell_type": "code",
   "execution_count": 219,
   "metadata": {},
   "outputs": [
    {
     "data": {
      "text/plain": [
       "<IntegerArray>\n",
       "[26, 36, 23, 35, 44, 33, 24, 28, 37, 32, 34, 30, 31, 29, 22, 43, 25, 42, 40,\n",
       " 41, 38, 21, 27, 39, 51, 55, 45, 52, 50, 56, 20, 47, 54, 19, 92, 60, 53, 18,\n",
       " 48, 58, 66]\n",
       "Length: 41, dtype: Int16"
      ]
     },
     "execution_count": 219,
     "metadata": {},
     "output_type": "execute_result"
    }
   ],
   "source": [
    "df.Age = df.Age.astype('Int16')\n",
    "df.Age.unique()"
   ]
  },
  {
   "cell_type": "code",
   "execution_count": 220,
   "metadata": {},
   "outputs": [
    {
     "data": {
      "text/plain": [
       "98"
      ]
     },
     "execution_count": 220,
     "metadata": {},
     "output_type": "execute_result"
    }
   ],
   "source": [
    "df['Country'].nunique()"
   ]
  },
  {
   "cell_type": "code",
   "execution_count": 221,
   "metadata": {},
   "outputs": [
    {
     "data": {
      "text/plain": [
       "array(['Canada', 'India', 'Other (Please Specify)',\n",
       "       'Other (Please Specify): Somalia',\n",
       "       'Other (Please Specify):Africa (Nigeria)',\n",
       "       'Other (Please Specify):Aisa', 'Other (Please Specify):Algeria',\n",
       "       'Other (Please Specify):Angola', 'Other (Please Specify):Antigua ',\n",
       "       'Other (Please Specify):Argentina',\n",
       "       'Other (Please Specify):Argentina ',\n",
       "       'Other (Please Specify):Argentine', 'Other (Please Specify):Austr',\n",
       "       'Other (Please Specify):Australia',\n",
       "       'Other (Please Specify):Azerbaijan',\n",
       "       'Other (Please Specify):Bangladesh ',\n",
       "       'Other (Please Specify):Barbados',\n",
       "       'Other (Please Specify):Belgium', 'Other (Please Specify):Brazik',\n",
       "       'Other (Please Specify):Brazil', 'Other (Please Specify):Bulgaria',\n",
       "       'Other (Please Specify):Chile', 'Other (Please Specify):Colombia',\n",
       "       'Other (Please Specify):Costa Rica',\n",
       "       'Other (Please Specify):Costa Rica ',\n",
       "       'Other (Please Specify):Denmark', 'Other (Please Specify):Egypt',\n",
       "       'Other (Please Specify):Egypt ', 'Other (Please Specify):Fin',\n",
       "       'Other (Please Specify):France', 'Other (Please Specify):Germany',\n",
       "       'Other (Please Specify):Ghana', 'Other (Please Specify):Greece',\n",
       "       'Other (Please Specify):Hong Kong',\n",
       "       'Other (Please Specify):Indonesia', 'Other (Please Specify):Iran',\n",
       "       'Other (Please Specify):Iraq', 'Other (Please Specify):Ire',\n",
       "       'Other (Please Specify):Irel', 'Other (Please Specify):Ireland',\n",
       "       'Other (Please Specify):Ireland ', 'Other (Please Specify):Israel',\n",
       "       'Other (Please Specify):Japan', 'Other (Please Specify):Kenua',\n",
       "       'Other (Please Specify):Kenya', 'Other (Please Specify):Kenya ',\n",
       "       'Other (Please Specify):Kosovo', 'Other (Please Specify):Leba',\n",
       "       'Other (Please Specify):Liberia',\n",
       "       'Other (Please Specify):Macedonia',\n",
       "       'Other (Please Specify):Malaysia', 'Other (Please Specify):Mexico',\n",
       "       'Other (Please Specify):Morocco',\n",
       "       'Other (Please Specify):Morocco ',\n",
       "       'Other (Please Specify):Mozambique',\n",
       "       'Other (Please Specify):Netherlands',\n",
       "       'Other (Please Specify):Niger', 'Other (Please Specify):Nigeria',\n",
       "       'Other (Please Specify):Nigeria ', 'Other (Please Specify):Oman',\n",
       "       'Other (Please Specify):Pakistan', 'Other (Please Specify):Panama',\n",
       "       'Other (Please Specify):Peru', 'Other (Please Specify):Perú ',\n",
       "       'Other (Please Specify):Philippines',\n",
       "       'Other (Please Specify):Poland', 'Other (Please Specify):Portugal',\n",
       "       'Other (Please Specify):Portugsl',\n",
       "       'Other (Please Specify):Republic democratic of Congo ',\n",
       "       'Other (Please Specify):Romania', 'Other (Please Specify):SG',\n",
       "       'Other (Please Specify):Saudi Arabia',\n",
       "       'Other (Please Specify):Saudi Arabia ',\n",
       "       'Other (Please Specify):Serbia',\n",
       "       'Other (Please Specify):Singapore',\n",
       "       'Other (Please Specify):South Africa',\n",
       "       'Other (Please Specify):South Africa ',\n",
       "       'Other (Please Specify):South Korea',\n",
       "       'Other (Please Specify):Spain', 'Other (Please Specify):Sri lanka',\n",
       "       'Other (Please Specify):Sudan', 'Other (Please Specify):Sweden',\n",
       "       'Other (Please Specify):TUNISIA',\n",
       "       'Other (Please Specify):Thailand', 'Other (Please Specify):Turkey',\n",
       "       'Other (Please Specify):UAE',\n",
       "       'Other (Please Specify):United Arab Emirates ',\n",
       "       'Other (Please Specify):Uruguay',\n",
       "       'Other (Please Specify):Venezuela',\n",
       "       'Other (Please Specify):Vietnam', 'Other (Please Specify):Zambia',\n",
       "       'Other (Please Specify):ghana', 'Other (Please Specify):indonesia',\n",
       "       'Other (Please Specify):nigeria', 'Other (Please Specify):turkey',\n",
       "       'Other (Please Specify):uzb', 'United Kingdom', 'United States'],\n",
       "      dtype=object)"
      ]
     },
     "execution_count": 221,
     "metadata": {},
     "output_type": "execute_result"
    }
   ],
   "source": [
    "df['Country'].sort_values().unique()"
   ]
  },
  {
   "cell_type": "code",
   "execution_count": 222,
   "metadata": {},
   "outputs": [],
   "source": [
    "df['Country'] = df['Country'].str.lower()\n",
    "df['Country'] = df['Country'].str.strip()"
   ]
  },
  {
   "cell_type": "code",
   "execution_count": 223,
   "metadata": {},
   "outputs": [],
   "source": [
    "df['Country'] = df['Country'].astype(str).apply(lambda x: x.replace('other (please specify):','').strip().capitalize())"
   ]
  },
  {
   "cell_type": "code",
   "execution_count": 224,
   "metadata": {},
   "outputs": [
    {
     "data": {
      "text/plain": [
       "array(['Africa (nigeria)', 'Aisa', 'Algeria', 'Angola', 'Antigua',\n",
       "       'Argentina', 'Argentine', 'Austr', 'Australia', 'Azerbaijan',\n",
       "       'Bangladesh', 'Barbados', 'Belgium', 'Brazik', 'Brazil',\n",
       "       'Bulgaria', 'Canada', 'Chile', 'Colombia', 'Costa rica', 'Denmark',\n",
       "       'Egypt', 'Fin', 'France', 'Germany', 'Ghana', 'Greece',\n",
       "       'Hong kong', 'India', 'Indonesia', 'Iran', 'Iraq', 'Ire', 'Irel',\n",
       "       'Ireland', 'Israel', 'Japan', 'Kenua', 'Kenya', 'Kosovo', 'Leba',\n",
       "       'Liberia', 'Macedonia', 'Malaysia', 'Mexico', 'Morocco',\n",
       "       'Mozambique', 'Netherlands', 'Niger', 'Nigeria', 'Oman',\n",
       "       'Other (please specify)', 'Pakistan', 'Panama', 'Peru', 'Perú',\n",
       "       'Philippines', 'Poland', 'Portugal', 'Portugsl',\n",
       "       'Republic democratic of congo', 'Romania', 'Saudi arabia',\n",
       "       'Serbia', 'Sg', 'Singapore', 'Somalia', 'South africa',\n",
       "       'South korea', 'Spain', 'Sri lanka', 'Sudan', 'Sweden', 'Thailand',\n",
       "       'Tunisia', 'Turkey', 'Uae', 'United arab emirates',\n",
       "       'United kingdom', 'United states', 'Uruguay', 'Uzb', 'Venezuela',\n",
       "       'Vietnam', 'Zambia'], dtype=object)"
      ]
     },
     "execution_count": 224,
     "metadata": {},
     "output_type": "execute_result"
    }
   ],
   "source": [
    "df['Country'].sort_values().unique()"
   ]
  },
  {
   "cell_type": "code",
   "execution_count": 225,
   "metadata": {},
   "outputs": [],
   "source": [
    "country_corrections = {\n",
    "    'Aisa': 'Asia',\n",
    "    'Africa (nigeria)': 'Nigeria',\n",
    "    'Brazik': 'Brazil',\n",
    "    'Austr': 'Austria',\n",
    "    'Kenua': 'kenya',\n",
    "    'Ire': 'Ireland',\n",
    "    'Irel': 'Ireland',\n",
    "    'Portugsl': 'Portugal',\n",
    "    'Sg': 'Singapore',\n",
    "    'Perú': 'Peru',\n",
    "    'Argentine': 'Argentina',\n",
    "    'Fin': 'Finland',\n",
    "    'Uzb':'Uzbekistan',\n",
    "    'Republic democratic of congo': 'Democratic republic of the congo',\n",
    "    'Uae': 'United arab emirates',\n",
    "    'Other (please specify)': 'Other' # Remove if needed\n",
    "}\n"
   ]
  },
  {
   "cell_type": "code",
   "execution_count": 226,
   "metadata": {},
   "outputs": [],
   "source": [
    "df['Country'] = df['Country'].replace(country_corrections)"
   ]
  },
  {
   "cell_type": "code",
   "execution_count": 227,
   "metadata": {},
   "outputs": [
    {
     "data": {
      "text/plain": [
       "array(['Algeria', 'Angola', 'Antigua', 'Argentina', 'Asia', 'Australia',\n",
       "       'Austria', 'Azerbaijan', 'Bangladesh', 'Barbados', 'Belgium',\n",
       "       'Brazil', 'Bulgaria', 'Canada', 'Chile', 'Colombia', 'Costa rica',\n",
       "       'Democratic republic of the congo', 'Denmark', 'Egypt', 'Finland',\n",
       "       'France', 'Germany', 'Ghana', 'Greece', 'Hong kong', 'India',\n",
       "       'Indonesia', 'Iran', 'Iraq', 'Ireland', 'Israel', 'Japan', 'Kenya',\n",
       "       'Kosovo', 'Leba', 'Liberia', 'Macedonia', 'Malaysia', 'Mexico',\n",
       "       'Morocco', 'Mozambique', 'Netherlands', 'Niger', 'Nigeria', 'Oman',\n",
       "       'Other', 'Pakistan', 'Panama', 'Peru', 'Philippines', 'Poland',\n",
       "       'Portugal', 'Romania', 'Saudi arabia', 'Serbia', 'Singapore',\n",
       "       'Somalia', 'South africa', 'South korea', 'Spain', 'Sri lanka',\n",
       "       'Sudan', 'Sweden', 'Thailand', 'Tunisia', 'Turkey',\n",
       "       'United arab emirates', 'United kingdom', 'United states',\n",
       "       'Uruguay', 'Uzbekistan', 'Venezuela', 'Vietnam', 'Zambia', 'kenya'],\n",
       "      dtype=object)"
      ]
     },
     "execution_count": 227,
     "metadata": {},
     "output_type": "execute_result"
    }
   ],
   "source": [
    "df['Country'].sort_values().unique()"
   ]
  },
  {
   "cell_type": "code",
   "execution_count": 228,
   "metadata": {},
   "outputs": [
    {
     "data": {
      "text/plain": [
       "76"
      ]
     },
     "execution_count": 228,
     "metadata": {},
     "output_type": "execute_result"
    }
   ],
   "source": [
    "df['Country'].nunique()"
   ]
  }
 ],
 "metadata": {
  "kernelspec": {
   "display_name": "Python 3",
   "language": "python",
   "name": "python3"
  },
  "language_info": {
   "codemirror_mode": {
    "name": "ipython",
    "version": 3
   },
   "file_extension": ".py",
   "mimetype": "text/x-python",
   "name": "python",
   "nbconvert_exporter": "python",
   "pygments_lexer": "ipython3",
   "version": "3.12.6"
  }
 },
 "nbformat": 4,
 "nbformat_minor": 2
}
